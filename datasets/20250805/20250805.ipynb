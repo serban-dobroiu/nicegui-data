{
 "cells": [
  {
   "cell_type": "code",
   "execution_count": 1,
   "metadata": {},
   "outputs": [
    {
     "name": "stdout",
     "output_type": "stream",
     "text": [
      "Something's wrong\n"
     ]
    }
   ],
   "source": [
    "print(\"Something's wrong\")"
   ]
  },
  {
   "cell_type": "code",
   "execution_count": 1,
   "metadata": {},
   "outputs": [
    {
     "name": "stdout",
     "output_type": "stream",
     "text": [
      "Trying to fetch README from: https://raw.githubusercontent.com/rfordatascience/tidytuesday/refs/heads/main/data/2025/2025-08-05/readme.md\n",
      "Successfully fetched README from: https://raw.githubusercontent.com/rfordatascience/tidytuesday/refs/heads/main/data/2025/2025-08-05/readme.md\n",
      "Downloading income_inequality_processed.csv...\n",
      "Successfully saved income_inequality_processed.csv to /home/serban/Documents/Training/nicegui/datasets/20250805/income_inequality_processed.csv\n",
      "Downloading income_inequality_raw.csv...\n",
      "Successfully saved income_inequality_raw.csv to /home/serban/Documents/Training/nicegui/datasets/20250805/income_inequality_raw.csv\n",
      "Downloading meta.yaml...\n",
      "Successfully saved meta.yaml to /home/serban/Documents/Training/nicegui/datasets/20250805/meta.yaml\n",
      "Downloading reduction-in-income-inequality.png...\n",
      "Successfully saved reduction-in-income-inequality.png to /home/serban/Documents/Training/nicegui/datasets/20250805/reduction-in-income-inequality.png\n"
     ]
    }
   ],
   "source": [
    "import pydytuesday\n",
    "\n",
    "pydytuesday.get_date('2025-08-05')"
   ]
  },
  {
   "cell_type": "code",
   "execution_count": 20,
   "metadata": {},
   "outputs": [
    {
     "data": {
      "text/html": [
       "<div><style>\n",
       ".dataframe > thead > tr,\n",
       ".dataframe > tbody > tr {\n",
       "  text-align: right;\n",
       "  white-space: pre-wrap;\n",
       "}\n",
       "</style>\n",
       "<small>shape: (9, 8)</small><table border=\"1\" class=\"dataframe\"><thead><tr><th>statistic</th><th>Entity</th><th>Code</th><th>Year</th><th>gini_disposable__age_total</th><th>gini_market__age_total</th><th>population_historical</th><th>owid_region</th></tr><tr><td>str</td><td>str</td><td>str</td><td>f64</td><td>f64</td><td>f64</td><td>f64</td><td>str</td></tr></thead><tbody><tr><td>&quot;count&quot;</td><td>&quot;58925&quot;</td><td>&quot;55521&quot;</td><td>58925.0</td><td>616.0</td><td>596.0</td><td>58890.0</td><td>&quot;272&quot;</td></tr><tr><td>&quot;null_count&quot;</td><td>&quot;0&quot;</td><td>&quot;3404&quot;</td><td>0.0</td><td>58309.0</td><td>58329.0</td><td>35.0</td><td>&quot;58653&quot;</td></tr><tr><td>&quot;mean&quot;</td><td>null</td><td>null</td><td>1612.889741</td><td>0.318461</td><td>0.472504</td><td>5.0861e7</td><td>null</td></tr><tr><td>&quot;std&quot;</td><td>null</td><td>null</td><td>1402.605752</td><td>0.060016</td><td>0.048747</td><td>3.0027e8</td><td>null</td></tr><tr><td>&quot;min&quot;</td><td>&quot;Afghanistan&quot;</td><td>&quot;ABW&quot;</td><td>-10000.0</td><td>0.209</td><td>0.364</td><td>1.0</td><td>&quot;Africa&quot;</td></tr><tr><td>&quot;25%&quot;</td><td>null</td><td>null</td><td>1833.0</td><td>0.278</td><td>0.436</td><td>148096.0</td><td>null</td></tr><tr><td>&quot;50%&quot;</td><td>null</td><td>null</td><td>1902.0</td><td>0.312</td><td>0.481</td><td>1.410429e6</td><td>null</td></tr><tr><td>&quot;75%&quot;</td><td>null</td><td>null</td><td>1967.0</td><td>0.346</td><td>0.51</td><td>6.773156e6</td><td>null</td></tr><tr><td>&quot;max&quot;</td><td>&quot;Zimbabwe&quot;</td><td>&quot;ZWE&quot;</td><td>2023.0</td><td>0.626</td><td>0.72</td><td>8.0917e9</td><td>&quot;South America&quot;</td></tr></tbody></table></div>"
      ],
      "text/plain": [
       "shape: (9, 8)\n",
       "┌────────────┬────────────┬───────┬────────────┬────────────┬────────────┬────────────┬────────────┐\n",
       "│ statistic  ┆ Entity     ┆ Code  ┆ Year       ┆ gini_dispo ┆ gini_marke ┆ population ┆ owid_regio │\n",
       "│ ---        ┆ ---        ┆ ---   ┆ ---        ┆ sable__age ┆ t__age_tot ┆ _historica ┆ n          │\n",
       "│ str        ┆ str        ┆ str   ┆ f64        ┆ _total     ┆ al         ┆ l          ┆ ---        │\n",
       "│            ┆            ┆       ┆            ┆ ---        ┆ ---        ┆ ---        ┆ str        │\n",
       "│            ┆            ┆       ┆            ┆ f64        ┆ f64        ┆ f64        ┆            │\n",
       "╞════════════╪════════════╪═══════╪════════════╪════════════╪════════════╪════════════╪════════════╡\n",
       "│ count      ┆ 58925      ┆ 55521 ┆ 58925.0    ┆ 616.0      ┆ 596.0      ┆ 58890.0    ┆ 272        │\n",
       "│ null_count ┆ 0          ┆ 3404  ┆ 0.0        ┆ 58309.0    ┆ 58329.0    ┆ 35.0       ┆ 58653      │\n",
       "│ mean       ┆ null       ┆ null  ┆ 1612.88974 ┆ 0.318461   ┆ 0.472504   ┆ 5.0861e7   ┆ null       │\n",
       "│            ┆            ┆       ┆ 1          ┆            ┆            ┆            ┆            │\n",
       "│ std        ┆ null       ┆ null  ┆ 1402.60575 ┆ 0.060016   ┆ 0.048747   ┆ 3.0027e8   ┆ null       │\n",
       "│            ┆            ┆       ┆ 2          ┆            ┆            ┆            ┆            │\n",
       "│ min        ┆ Afghanista ┆ ABW   ┆ -10000.0   ┆ 0.209      ┆ 0.364      ┆ 1.0        ┆ Africa     │\n",
       "│            ┆ n          ┆       ┆            ┆            ┆            ┆            ┆            │\n",
       "│ 25%        ┆ null       ┆ null  ┆ 1833.0     ┆ 0.278      ┆ 0.436      ┆ 148096.0   ┆ null       │\n",
       "│ 50%        ┆ null       ┆ null  ┆ 1902.0     ┆ 0.312      ┆ 0.481      ┆ 1.410429e6 ┆ null       │\n",
       "│ 75%        ┆ null       ┆ null  ┆ 1967.0     ┆ 0.346      ┆ 0.51       ┆ 6.773156e6 ┆ null       │\n",
       "│ max        ┆ Zimbabwe   ┆ ZWE   ┆ 2023.0     ┆ 0.626      ┆ 0.72       ┆ 8.0917e9   ┆ South      │\n",
       "│            ┆            ┆       ┆            ┆            ┆            ┆            ┆ America    │\n",
       "└────────────┴────────────┴───────┴────────────┴────────────┴────────────┴────────────┴────────────┘"
      ]
     },
     "execution_count": 20,
     "metadata": {},
     "output_type": "execute_result"
    }
   ],
   "source": [
    "import polars as pl\n",
    "# import pandas as pd\n",
    "\n",
    "# raw_data: pl.DataFrame = pl.read_csv(\"https://raw.githubusercontent.com/rfordatascience/tidytuesday/main/data/2025/2025-08-05/income_inequality_raw.csv\")\n",
    "raw_data = pl.read_csv(\"income_inequality_raw.csv\", infer_schema_length=None, null_values='NA')\n",
    "\n",
    "\n",
    "raw_data.describe()"
   ]
  },
  {
   "cell_type": "code",
   "execution_count": 27,
   "metadata": {},
   "outputs": [
    {
     "data": {
      "text/html": [
       "<div><style>\n",
       ".dataframe > thead > tr,\n",
       ".dataframe > tbody > tr {\n",
       "  text-align: right;\n",
       "  white-space: pre-wrap;\n",
       "}\n",
       "</style>\n",
       "<small>shape: (9, 8)</small><table border=\"1\" class=\"dataframe\"><thead><tr><th>statistic</th><th>entity</th><th>code</th><th>year</th><th>gini_after_tax</th><th>gini_pre_tax</th><th>population_historical</th><th>owid_region</th></tr><tr><td>str</td><td>str</td><td>str</td><td>f64</td><td>f64</td><td>f64</td><td>f64</td><td>str</td></tr></thead><tbody><tr><td>&quot;count&quot;</td><td>&quot;596&quot;</td><td>&quot;596&quot;</td><td>596.0</td><td>596.0</td><td>596.0</td><td>596.0</td><td>&quot;2&quot;</td></tr><tr><td>&quot;null_count&quot;</td><td>&quot;0&quot;</td><td>&quot;0&quot;</td><td>0.0</td><td>0.0</td><td>0.0</td><td>0.0</td><td>&quot;594&quot;</td></tr><tr><td>&quot;mean&quot;</td><td>null</td><td>null</td><td>2012.770134</td><td>0.317666</td><td>0.472504</td><td>3.5680e7</td><td>null</td></tr><tr><td>&quot;std&quot;</td><td>null</td><td>null</td><td>8.018205</td><td>0.06075</td><td>0.048747</td><td>1.0182e8</td><td>null</td></tr><tr><td>&quot;min&quot;</td><td>&quot;Australia&quot;</td><td>&quot;AUS&quot;</td><td>1976.0</td><td>0.209</td><td>0.364</td><td>292127.0</td><td>&quot;North America&quot;</td></tr><tr><td>&quot;25%&quot;</td><td>null</td><td>null</td><td>2009.0</td><td>0.275</td><td>0.436</td><td>5.088409e6</td><td>null</td></tr><tr><td>&quot;50%&quot;</td><td>null</td><td>null</td><td>2014.0</td><td>0.31</td><td>0.481</td><td>1.001661e7</td><td>null</td></tr><tr><td>&quot;75%&quot;</td><td>null</td><td>null</td><td>2018.0</td><td>0.346</td><td>0.51</td><td>3.6353292e7</td><td>null</td></tr><tr><td>&quot;max&quot;</td><td>&quot;United States&quot;</td><td>&quot;ZAF&quot;</td><td>2023.0</td><td>0.626</td><td>0.72</td><td>1.3603e9</td><td>&quot;North America&quot;</td></tr></tbody></table></div>"
      ],
      "text/plain": [
       "shape: (9, 8)\n",
       "┌────────────┬─────────────┬──────┬────────────┬────────────┬────────────┬────────────┬────────────┐\n",
       "│ statistic  ┆ entity      ┆ code ┆ year       ┆ gini_after ┆ gini_pre_t ┆ population ┆ owid_regio │\n",
       "│ ---        ┆ ---         ┆ ---  ┆ ---        ┆ _tax       ┆ ax         ┆ _historica ┆ n          │\n",
       "│ str        ┆ str         ┆ str  ┆ f64        ┆ ---        ┆ ---        ┆ l          ┆ ---        │\n",
       "│            ┆             ┆      ┆            ┆ f64        ┆ f64        ┆ ---        ┆ str        │\n",
       "│            ┆             ┆      ┆            ┆            ┆            ┆ f64        ┆            │\n",
       "╞════════════╪═════════════╪══════╪════════════╪════════════╪════════════╪════════════╪════════════╡\n",
       "│ count      ┆ 596         ┆ 596  ┆ 596.0      ┆ 596.0      ┆ 596.0      ┆ 596.0      ┆ 2          │\n",
       "│ null_count ┆ 0           ┆ 0    ┆ 0.0        ┆ 0.0        ┆ 0.0        ┆ 0.0        ┆ 594        │\n",
       "│ mean       ┆ null        ┆ null ┆ 2012.77013 ┆ 0.317666   ┆ 0.472504   ┆ 3.5680e7   ┆ null       │\n",
       "│            ┆             ┆      ┆ 4          ┆            ┆            ┆            ┆            │\n",
       "│ std        ┆ null        ┆ null ┆ 8.018205   ┆ 0.06075    ┆ 0.048747   ┆ 1.0182e8   ┆ null       │\n",
       "│ min        ┆ Australia   ┆ AUS  ┆ 1976.0     ┆ 0.209      ┆ 0.364      ┆ 292127.0   ┆ North      │\n",
       "│            ┆             ┆      ┆            ┆            ┆            ┆            ┆ America    │\n",
       "│ 25%        ┆ null        ┆ null ┆ 2009.0     ┆ 0.275      ┆ 0.436      ┆ 5.088409e6 ┆ null       │\n",
       "│ 50%        ┆ null        ┆ null ┆ 2014.0     ┆ 0.31       ┆ 0.481      ┆ 1.001661e7 ┆ null       │\n",
       "│ 75%        ┆ null        ┆ null ┆ 2018.0     ┆ 0.346      ┆ 0.51       ┆ 3.6353292e ┆ null       │\n",
       "│            ┆             ┆      ┆            ┆            ┆            ┆ 7          ┆            │\n",
       "│ max        ┆ United      ┆ ZAF  ┆ 2023.0     ┆ 0.626      ┆ 0.72       ┆ 1.3603e9   ┆ North      │\n",
       "│            ┆ States      ┆      ┆            ┆            ┆            ┆            ┆ America    │\n",
       "└────────────┴─────────────┴──────┴────────────┴────────────┴────────────┴────────────┴────────────┘"
      ]
     },
     "execution_count": 27,
     "metadata": {},
     "output_type": "execute_result"
    }
   ],
   "source": [
    "data = raw_data.cast({\"Year\": pl.Int32})\\\n",
    ".rename(lambda column_name: column_name.lower())\\\n",
    ".rename({\"gini_disposable__age_total\": \"gini_after_tax\"})\\\n",
    ".rename({\"gini_market__age_total\": \"gini_pre_tax\"})\\\n",
    ".filter(pl.col(\"gini_after_tax\").is_not_null() & pl.col(\"gini_pre_tax\").is_not_null())\n",
    "\n",
    "data.describe()"
   ]
  },
  {
   "cell_type": "code",
   "execution_count": 28,
   "metadata": {},
   "outputs": [
    {
     "name": "stdout",
     "output_type": "stream",
     "text": [
      "shape: (45, 7)\n",
      "┌─────────────┬──────┬──────┬────────────────┬──────────────┬───────────────────────┬─────────────┐\n",
      "│ entity      ┆ code ┆ year ┆ gini_after_tax ┆ gini_pre_tax ┆ population_historical ┆ owid_region │\n",
      "│ ---         ┆ ---  ┆ ---  ┆ ---            ┆ ---          ┆ ---                   ┆ ---         │\n",
      "│ str         ┆ str  ┆ i32  ┆ f64            ┆ f64          ┆ i64                   ┆ str         │\n",
      "╞═════════════╪══════╪══════╪════════════════╪══════════════╪═══════════════════════╪═════════════╡\n",
      "│ Spain       ┆ ESP  ┆ 2007 ┆ 0.313          ┆ 0.449        ┆ 45516452              ┆ null        │\n",
      "│ Israel      ┆ ISR  ┆ 2011 ┆ 0.371          ┆ 0.494        ┆ 7470971               ┆ null        │\n",
      "│ Costa Rica  ┆ CRI  ┆ 2010 ┆ 0.472          ┆ 0.505        ┆ 4555924               ┆ null        │\n",
      "│ Belgium     ┆ BEL  ┆ 2018 ┆ 0.258          ┆ 0.49         ┆ 11428564              ┆ null        │\n",
      "│ Turkey      ┆ TUR  ┆ 2011 ┆ 0.403          ┆ 0.427        ┆ 74215158              ┆ null        │\n",
      "│ …           ┆ …    ┆ …    ┆ …              ┆ …            ┆ …                     ┆ …           │\n",
      "│ Switzerland ┆ CHE  ┆ 2006 ┆ 0.305          ┆ 0.367        ┆ 7478464               ┆ null        │\n",
      "│ Norway      ┆ NOR  ┆ 2004 ┆ 0.285          ┆ 0.437        ┆ 4591693               ┆ null        │\n",
      "│ Ireland     ┆ IRL  ┆ 2004 ┆ 0.323          ┆ 0.509        ┆ 4066012               ┆ null        │\n",
      "│ Mexico      ┆ MEX  ┆ 2012 ┆ 0.457          ┆ 0.473        ┆ 116818153             ┆ null        │\n",
      "│ China       ┆ CHN  ┆ 2011 ┆ 0.514          ┆ 0.548        ┆ 1360250601            ┆ null        │\n",
      "└─────────────┴──────┴──────┴────────────────┴──────────────┴───────────────────────┴─────────────┘\n"
     ]
    }
   ],
   "source": [
    "owid_regions = data.unique(\"code\")\n",
    "print(owid_regions)"
   ]
  },
  {
   "cell_type": "code",
   "execution_count": null,
   "metadata": {},
   "outputs": [],
   "source": []
  }
 ],
 "metadata": {
  "kernelspec": {
   "display_name": "Python 3",
   "language": "python",
   "name": "python3"
  },
  "language_info": {
   "codemirror_mode": {
    "name": "ipython",
    "version": 3
   },
   "file_extension": ".py",
   "mimetype": "text/x-python",
   "name": "python",
   "nbconvert_exporter": "python",
   "pygments_lexer": "ipython3",
   "version": "3.11.11"
  }
 },
 "nbformat": 4,
 "nbformat_minor": 2
}
