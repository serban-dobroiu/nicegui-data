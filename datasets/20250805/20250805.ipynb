{
 "cells": [
  {
   "cell_type": "code",
   "execution_count": 1,
   "metadata": {},
   "outputs": [
    {
     "name": "stdout",
     "output_type": "stream",
     "text": [
      "Trying to fetch README from: https://raw.githubusercontent.com/rfordatascience/tidytuesday/refs/heads/main/data/2025/2025-08-05/readme.md\n",
      "Successfully fetched README from: https://raw.githubusercontent.com/rfordatascience/tidytuesday/refs/heads/main/data/2025/2025-08-05/readme.md\n",
      "Downloading income_inequality_processed.csv...\n",
      "Successfully saved income_inequality_processed.csv to /home/serban/Documents/Training/nicegui/datasets/20250805/income_inequality_processed.csv\n",
      "Downloading income_inequality_raw.csv...\n",
      "Successfully saved income_inequality_raw.csv to /home/serban/Documents/Training/nicegui/datasets/20250805/income_inequality_raw.csv\n",
      "Downloading meta.yaml...\n",
      "Successfully saved meta.yaml to /home/serban/Documents/Training/nicegui/datasets/20250805/meta.yaml\n",
      "Downloading reduction-in-income-inequality.png...\n",
      "Successfully saved reduction-in-income-inequality.png to /home/serban/Documents/Training/nicegui/datasets/20250805/reduction-in-income-inequality.png\n"
     ]
    }
   ],
   "source": [
    "import pydytuesday\n",
    "\n",
    "pydytuesday.get_date('2025-08-05')"
   ]
  },
  {
   "cell_type": "code",
   "execution_count": 2,
   "metadata": {},
   "outputs": [
    {
     "data": {
      "text/plain": [
       "['Entity',\n",
       " 'Code',\n",
       " 'Year',\n",
       " 'gini_disposable__age_total',\n",
       " 'gini_market__age_total',\n",
       " 'population_historical',\n",
       " 'owid_region']"
      ]
     },
     "execution_count": 2,
     "metadata": {},
     "output_type": "execute_result"
    }
   ],
   "source": [
    "import polars as pl\n",
    "# import pandas as pd\n",
    "\n",
    "# raw_data: pl.DataFrame = pl.read_csv(\"https://raw.githubusercontent.com/rfordatascience/tidytuesday/main/data/2025/2025-08-05/income_inequality_raw.csv\")\n",
    "raw_data = pl.scan_csv(\"income_inequality_raw.csv\", infer_schema_length=None, null_values='NA')\n",
    "\n",
    "\n",
    "raw_data.describe()\n",
    "\n",
    "raw_data.collect_schema().names()"
   ]
  },
  {
   "cell_type": "code",
   "execution_count": 3,
   "metadata": {},
   "outputs": [
    {
     "data": {
      "text/plain": [
       "['name',\n",
       " 'alpha-2',\n",
       " 'alpha-3',\n",
       " 'country-code',\n",
       " 'iso_3166-2',\n",
       " 'region',\n",
       " 'sub-region',\n",
       " 'intermediate-region',\n",
       " 'region-code',\n",
       " 'sub-region-code',\n",
       " 'intermediate-region-code']"
      ]
     },
     "execution_count": 3,
     "metadata": {},
     "output_type": "execute_result"
    }
   ],
   "source": [
    "# Country codes\n",
    "\n",
    "country_data = pl.scan_csv(\"https://raw.githubusercontent.com/lukes/ISO-3166-Countries-with-Regional-Codes/refs/heads/master/all/all.csv\")\n",
    "\n",
    "# print(country_data.collect())\n",
    "\n",
    "country_data.collect_schema().names()"
   ]
  },
  {
   "cell_type": "code",
   "execution_count": 4,
   "metadata": {},
   "outputs": [
    {
     "data": {
      "text/html": [
       "<div><style>\n",
       ".dataframe > thead > tr,\n",
       ".dataframe > tbody > tr {\n",
       "  text-align: right;\n",
       "  white-space: pre-wrap;\n",
       "}\n",
       "</style>\n",
       "<small>shape: (10, 11)</small><table border=\"1\" class=\"dataframe\"><thead><tr><th>name</th><th>alpha-2</th><th>alpha-3</th><th>country-code</th><th>iso_3166-2</th><th>region</th><th>sub-region</th><th>intermediate-region</th><th>region-code</th><th>sub-region-code</th><th>intermediate-region-code</th></tr><tr><td>str</td><td>str</td><td>str</td><td>i64</td><td>str</td><td>str</td><td>str</td><td>str</td><td>str</td><td>str</td><td>str</td></tr></thead><tbody><tr><td>&quot;Afghanistan&quot;</td><td>&quot;AF&quot;</td><td>&quot;AFG&quot;</td><td>4</td><td>&quot;ISO 3166-2:AF&quot;</td><td>&quot;Asia&quot;</td><td>&quot;Southern Asia&quot;</td><td>&quot;&quot;</td><td>&quot;142&quot;</td><td>&quot;034&quot;</td><td>&quot;&quot;</td></tr><tr><td>&quot;Åland Islands&quot;</td><td>&quot;AX&quot;</td><td>&quot;ALA&quot;</td><td>248</td><td>&quot;ISO 3166-2:AX&quot;</td><td>&quot;Europe&quot;</td><td>&quot;Northern Europe&quot;</td><td>&quot;&quot;</td><td>&quot;150&quot;</td><td>&quot;154&quot;</td><td>&quot;&quot;</td></tr><tr><td>&quot;Albania&quot;</td><td>&quot;AL&quot;</td><td>&quot;ALB&quot;</td><td>8</td><td>&quot;ISO 3166-2:AL&quot;</td><td>&quot;Europe&quot;</td><td>&quot;Southern Europe&quot;</td><td>&quot;&quot;</td><td>&quot;150&quot;</td><td>&quot;039&quot;</td><td>&quot;&quot;</td></tr><tr><td>&quot;Algeria&quot;</td><td>&quot;DZ&quot;</td><td>&quot;DZA&quot;</td><td>12</td><td>&quot;ISO 3166-2:DZ&quot;</td><td>&quot;Africa&quot;</td><td>&quot;Northern Africa&quot;</td><td>&quot;&quot;</td><td>&quot;002&quot;</td><td>&quot;015&quot;</td><td>&quot;&quot;</td></tr><tr><td>&quot;American Samoa&quot;</td><td>&quot;AS&quot;</td><td>&quot;ASM&quot;</td><td>16</td><td>&quot;ISO 3166-2:AS&quot;</td><td>&quot;Oceania&quot;</td><td>&quot;Polynesia&quot;</td><td>&quot;&quot;</td><td>&quot;009&quot;</td><td>&quot;061&quot;</td><td>&quot;&quot;</td></tr><tr><td>&quot;Andorra&quot;</td><td>&quot;AD&quot;</td><td>&quot;AND&quot;</td><td>20</td><td>&quot;ISO 3166-2:AD&quot;</td><td>&quot;Europe&quot;</td><td>&quot;Southern Europe&quot;</td><td>&quot;&quot;</td><td>&quot;150&quot;</td><td>&quot;039&quot;</td><td>&quot;&quot;</td></tr><tr><td>&quot;Angola&quot;</td><td>&quot;AO&quot;</td><td>&quot;AGO&quot;</td><td>24</td><td>&quot;ISO 3166-2:AO&quot;</td><td>&quot;Africa&quot;</td><td>&quot;Sub-Saharan Africa&quot;</td><td>&quot;Middle Africa&quot;</td><td>&quot;002&quot;</td><td>&quot;202&quot;</td><td>&quot;017&quot;</td></tr><tr><td>&quot;Anguilla&quot;</td><td>&quot;AI&quot;</td><td>&quot;AIA&quot;</td><td>660</td><td>&quot;ISO 3166-2:AI&quot;</td><td>&quot;Americas&quot;</td><td>&quot;Latin America and the Caribbea…</td><td>&quot;Caribbean&quot;</td><td>&quot;019&quot;</td><td>&quot;419&quot;</td><td>&quot;029&quot;</td></tr><tr><td>&quot;Antarctica&quot;</td><td>&quot;AQ&quot;</td><td>&quot;ATA&quot;</td><td>10</td><td>&quot;ISO 3166-2:AQ&quot;</td><td>&quot;&quot;</td><td>&quot;&quot;</td><td>&quot;&quot;</td><td>&quot;&quot;</td><td>&quot;&quot;</td><td>&quot;&quot;</td></tr><tr><td>&quot;Antigua and Barbuda&quot;</td><td>&quot;AG&quot;</td><td>&quot;ATG&quot;</td><td>28</td><td>&quot;ISO 3166-2:AG&quot;</td><td>&quot;Americas&quot;</td><td>&quot;Latin America and the Caribbea…</td><td>&quot;Caribbean&quot;</td><td>&quot;019&quot;</td><td>&quot;419&quot;</td><td>&quot;029&quot;</td></tr></tbody></table></div>"
      ],
      "text/plain": [
       "shape: (10, 11)\n",
       "┌────────────┬─────────┬─────────┬────────────┬───┬────────────┬───────────┬───────────┬───────────┐\n",
       "│ name       ┆ alpha-2 ┆ alpha-3 ┆ country-co ┆ … ┆ intermedia ┆ region-co ┆ sub-regio ┆ intermedi │\n",
       "│ ---        ┆ ---     ┆ ---     ┆ de         ┆   ┆ te-region  ┆ de        ┆ n-code    ┆ ate-regio │\n",
       "│ str        ┆ str     ┆ str     ┆ ---        ┆   ┆ ---        ┆ ---       ┆ ---       ┆ n-code    │\n",
       "│            ┆         ┆         ┆ i64        ┆   ┆ str        ┆ str       ┆ str       ┆ ---       │\n",
       "│            ┆         ┆         ┆            ┆   ┆            ┆           ┆           ┆ str       │\n",
       "╞════════════╪═════════╪═════════╪════════════╪═══╪════════════╪═══════════╪═══════════╪═══════════╡\n",
       "│ Afghanista ┆ AF      ┆ AFG     ┆ 4          ┆ … ┆            ┆ 142       ┆ 034       ┆           │\n",
       "│ n          ┆         ┆         ┆            ┆   ┆            ┆           ┆           ┆           │\n",
       "│ Åland      ┆ AX      ┆ ALA     ┆ 248        ┆ … ┆            ┆ 150       ┆ 154       ┆           │\n",
       "│ Islands    ┆         ┆         ┆            ┆   ┆            ┆           ┆           ┆           │\n",
       "│ Albania    ┆ AL      ┆ ALB     ┆ 8          ┆ … ┆            ┆ 150       ┆ 039       ┆           │\n",
       "│ Algeria    ┆ DZ      ┆ DZA     ┆ 12         ┆ … ┆            ┆ 002       ┆ 015       ┆           │\n",
       "│ American   ┆ AS      ┆ ASM     ┆ 16         ┆ … ┆            ┆ 009       ┆ 061       ┆           │\n",
       "│ Samoa      ┆         ┆         ┆            ┆   ┆            ┆           ┆           ┆           │\n",
       "│ Andorra    ┆ AD      ┆ AND     ┆ 20         ┆ … ┆            ┆ 150       ┆ 039       ┆           │\n",
       "│ Angola     ┆ AO      ┆ AGO     ┆ 24         ┆ … ┆ Middle     ┆ 002       ┆ 202       ┆ 017       │\n",
       "│            ┆         ┆         ┆            ┆   ┆ Africa     ┆           ┆           ┆           │\n",
       "│ Anguilla   ┆ AI      ┆ AIA     ┆ 660        ┆ … ┆ Caribbean  ┆ 019       ┆ 419       ┆ 029       │\n",
       "│ Antarctica ┆ AQ      ┆ ATA     ┆ 10         ┆ … ┆            ┆           ┆           ┆           │\n",
       "│ Antigua    ┆ AG      ┆ ATG     ┆ 28         ┆ … ┆ Caribbean  ┆ 019       ┆ 419       ┆ 029       │\n",
       "│ and        ┆         ┆         ┆            ┆   ┆            ┆           ┆           ┆           │\n",
       "│ Barbuda    ┆         ┆         ┆            ┆   ┆            ┆           ┆           ┆           │\n",
       "└────────────┴─────────┴─────────┴────────────┴───┴────────────┴───────────┴───────────┴───────────┘"
      ]
     },
     "execution_count": 4,
     "metadata": {},
     "output_type": "execute_result"
    }
   ],
   "source": [
    "country_data.head(10).collect()"
   ]
  },
  {
   "cell_type": "code",
   "execution_count": 8,
   "metadata": {},
   "outputs": [
    {
     "data": {
      "text/html": [
       "<div><style>\n",
       ".dataframe > thead > tr,\n",
       ".dataframe > tbody > tr {\n",
       "  text-align: right;\n",
       "  white-space: pre-wrap;\n",
       "}\n",
       "</style>\n",
       "<small>shape: (5, 3)</small><table border=\"1\" class=\"dataframe\"><thead><tr><th>alpha-3</th><th>region</th><th>sub-region</th></tr><tr><td>str</td><td>str</td><td>str</td></tr></thead><tbody><tr><td>&quot;AFG&quot;</td><td>&quot;Asia&quot;</td><td>&quot;Southern Asia&quot;</td></tr><tr><td>&quot;ALA&quot;</td><td>&quot;Europe&quot;</td><td>&quot;Northern Europe&quot;</td></tr><tr><td>&quot;ALB&quot;</td><td>&quot;Europe&quot;</td><td>&quot;Southern Europe&quot;</td></tr><tr><td>&quot;DZA&quot;</td><td>&quot;Africa&quot;</td><td>&quot;Northern Africa&quot;</td></tr><tr><td>&quot;ASM&quot;</td><td>&quot;Oceania&quot;</td><td>&quot;Polynesia&quot;</td></tr></tbody></table></div>"
      ],
      "text/plain": [
       "shape: (5, 3)\n",
       "┌─────────┬─────────┬─────────────────┐\n",
       "│ alpha-3 ┆ region  ┆ sub-region      │\n",
       "│ ---     ┆ ---     ┆ ---             │\n",
       "│ str     ┆ str     ┆ str             │\n",
       "╞═════════╪═════════╪═════════════════╡\n",
       "│ AFG     ┆ Asia    ┆ Southern Asia   │\n",
       "│ ALA     ┆ Europe  ┆ Northern Europe │\n",
       "│ ALB     ┆ Europe  ┆ Southern Europe │\n",
       "│ DZA     ┆ Africa  ┆ Northern Africa │\n",
       "│ ASM     ┆ Oceania ┆ Polynesia       │\n",
       "└─────────┴─────────┴─────────────────┘"
      ]
     },
     "execution_count": 8,
     "metadata": {},
     "output_type": "execute_result"
    }
   ],
   "source": [
    "country_data_dimensions = [\"alpha-3\", \"region\", \"sub-region\"]\n",
    "\n",
    "country_data_slim = country_data.select(country_data_dimensions)\n",
    "\n",
    "country_data_slim.head().collect()"
   ]
  },
  {
   "cell_type": "code",
   "execution_count": 9,
   "metadata": {},
   "outputs": [
    {
     "data": {
      "text/plain": [
       "<bound method DataFrame.describe of shape: (596, 9)\n",
       "┌─────────────┬──────┬──────┬─────────────┬───┬─────────────┬─────────────┬──────────┬─────────────┐\n",
       "│ entity      ┆ code ┆ year ┆ gini_after_ ┆ … ┆ population_ ┆ owid_region ┆ region   ┆ sub-region  │\n",
       "│ ---         ┆ ---  ┆ ---  ┆ tax         ┆   ┆ historical  ┆ ---         ┆ ---      ┆ ---         │\n",
       "│ str         ┆ str  ┆ i32  ┆ ---         ┆   ┆ ---         ┆ str         ┆ str      ┆ str         │\n",
       "│             ┆      ┆      ┆ f64         ┆   ┆ i64         ┆             ┆          ┆             │\n",
       "╞═════════════╪══════╪══════╪═════════════╪═══╪═════════════╪═════════════╪══════════╪═════════════╡\n",
       "│ Australia   ┆ AUS  ┆ 2012 ┆ 0.326       ┆ … ┆ 22852597    ┆ null        ┆ Oceania  ┆ Australia   │\n",
       "│             ┆      ┆      ┆             ┆   ┆             ┆             ┆          ┆ and New     │\n",
       "│             ┆      ┆      ┆             ┆   ┆             ┆             ┆          ┆ Zealand     │\n",
       "│ Australia   ┆ AUS  ┆ 2014 ┆ 0.337       ┆ … ┆ 23595552    ┆ null        ┆ Oceania  ┆ Australia   │\n",
       "│             ┆      ┆      ┆             ┆   ┆             ┆             ┆          ┆ and New     │\n",
       "│             ┆      ┆      ┆             ┆   ┆             ┆             ┆          ┆ Zealand     │\n",
       "│ Australia   ┆ AUS  ┆ 2016 ┆ 0.33        ┆ … ┆ 24329914    ┆ null        ┆ Oceania  ┆ Australia   │\n",
       "│             ┆      ┆      ┆             ┆   ┆             ┆             ┆          ┆ and New     │\n",
       "│             ┆      ┆      ┆             ┆   ┆             ┆             ┆          ┆ Zealand     │\n",
       "│ Australia   ┆ AUS  ┆ 2018 ┆ 0.325       ┆ … ┆ 25119651    ┆ null        ┆ Oceania  ┆ Australia   │\n",
       "│             ┆      ┆      ┆             ┆   ┆             ┆             ┆          ┆ and New     │\n",
       "│             ┆      ┆      ┆             ┆   ┆             ┆             ┆          ┆ Zealand     │\n",
       "│ Australia   ┆ AUS  ┆ 2020 ┆ 0.319       ┆ … ┆ 25743732    ┆ null        ┆ Oceania  ┆ Australia   │\n",
       "│             ┆      ┆      ┆             ┆   ┆             ┆             ┆          ┆ and New     │\n",
       "│             ┆      ┆      ┆             ┆   ┆             ┆             ┆          ┆ Zealand     │\n",
       "│ …           ┆ …    ┆ …    ┆ …           ┆ … ┆ …           ┆ …           ┆ …        ┆ …           │\n",
       "│ United      ┆ USA  ┆ 2019 ┆ 0.395       ┆ … ┆ 337790020   ┆ null        ┆ Americas ┆ Northern    │\n",
       "│ States      ┆      ┆      ┆             ┆   ┆             ┆             ┆          ┆ America     │\n",
       "│ United      ┆ USA  ┆ 2020 ┆ 0.377       ┆ … ┆ 339436106   ┆ null        ┆ Americas ┆ Northern    │\n",
       "│ States      ┆      ┆      ┆             ┆   ┆             ┆             ┆          ┆ America     │\n",
       "│ United      ┆ USA  ┆ 2021 ┆ 0.375       ┆ … ┆ 340161392   ┆ null        ┆ Americas ┆ Northern    │\n",
       "│ States      ┆      ┆      ┆             ┆   ┆             ┆             ┆          ┆ America     │\n",
       "│ United      ┆ USA  ┆ 2022 ┆ 0.396       ┆ … ┆ 341533996   ┆ null        ┆ Americas ┆ Northern    │\n",
       "│ States      ┆      ┆      ┆             ┆   ┆             ┆             ┆          ┆ America     │\n",
       "│ United      ┆ USA  ┆ 2023 ┆ 0.394       ┆ … ┆ 343477286   ┆ North       ┆ Americas ┆ Northern    │\n",
       "│ States      ┆      ┆      ┆             ┆   ┆             ┆ America     ┆          ┆ America     │\n",
       "└─────────────┴──────┴──────┴─────────────┴───┴─────────────┴─────────────┴──────────┴─────────────┘>"
      ]
     },
     "execution_count": 9,
     "metadata": {},
     "output_type": "execute_result"
    }
   ],
   "source": [
    "data = raw_data.cast({\"Year\": pl.Int32})\\\n",
    ".rename(lambda column_name: column_name.lower())\\\n",
    ".rename({\"gini_disposable__age_total\": \"gini_after_tax\"})\\\n",
    ".rename({\"gini_market__age_total\": \"gini_pre_tax\"})\\\n",
    ".filter(pl.col(\"gini_after_tax\").is_not_null() & pl.col(\"gini_pre_tax\").is_not_null())\\\n",
    ".join(other=country_data_slim, left_on=\"code\", right_on=\"alpha-3\", how=\"left\")\n",
    "\n",
    "data.collect().describe"
   ]
  },
  {
   "cell_type": "code",
   "execution_count": 10,
   "metadata": {},
   "outputs": [],
   "source": [
    "z = data.collect()"
   ]
  },
  {
   "cell_type": "code",
   "execution_count": 11,
   "metadata": {},
   "outputs": [
    {
     "name": "stdout",
     "output_type": "stream",
     "text": [
      "shape: (2, 2)\n",
      "┌───────────────┬───────────────┐\n",
      "│ entity        ┆ owid_region   │\n",
      "│ ---           ┆ ---           │\n",
      "│ str           ┆ str           │\n",
      "╞═══════════════╪═══════════════╡\n",
      "│ Costa Rica    ┆ North America │\n",
      "│ United States ┆ North America │\n",
      "└───────────────┴───────────────┘\n"
     ]
    }
   ],
   "source": [
    "# get each entity owid region\n",
    "entity_owid_region = data.select(pl.col(\"entity\"), pl.col(\"owid_region\"))\\\n",
    ".drop_nulls()\\\n",
    ".collect()\\\n",
    "\n",
    "\n",
    "print(entity_owid_region)\n"
   ]
  },
  {
   "cell_type": "code",
   "execution_count": 12,
   "metadata": {},
   "outputs": [
    {
     "name": "stdout",
     "output_type": "stream",
     "text": [
      "shape: (45, 9)\n",
      "┌─────────────┬──────┬──────┬─────────────┬───┬─────────────┬─────────────┬──────────┬─────────────┐\n",
      "│ entity      ┆ code ┆ year ┆ gini_after_ ┆ … ┆ population_ ┆ owid_region ┆ region   ┆ sub-region  │\n",
      "│ ---         ┆ ---  ┆ ---  ┆ tax         ┆   ┆ historical  ┆ ---         ┆ ---      ┆ ---         │\n",
      "│ str         ┆ str  ┆ i32  ┆ ---         ┆   ┆ ---         ┆ str         ┆ str      ┆ str         │\n",
      "│             ┆      ┆      ┆ f64         ┆   ┆ i64         ┆             ┆          ┆             │\n",
      "╞═════════════╪══════╪══════╪═════════════╪═══╪═════════════╪═════════════╪══════════╪═════════════╡\n",
      "│ Denmark     ┆ DNK  ┆ 2011 ┆ 0.251       ┆ … ┆ 5570801     ┆ null        ┆ Europe   ┆ Northern    │\n",
      "│             ┆      ┆      ┆             ┆   ┆             ┆             ┆          ┆ Europe      │\n",
      "│ Germany     ┆ DEU  ┆ 2008 ┆ 0.285       ┆ … ┆ 81110734    ┆ null        ┆ Europe   ┆ Western     │\n",
      "│             ┆      ┆      ┆             ┆   ┆             ┆             ┆          ┆ Europe      │\n",
      "│ Brazil      ┆ BRA  ┆ 2016 ┆ 0.462       ┆ … ┆ 203218058   ┆ null        ┆ Americas ┆ Latin       │\n",
      "│             ┆      ┆      ┆             ┆   ┆             ┆             ┆          ┆ America and │\n",
      "│             ┆      ┆      ┆             ┆   ┆             ┆             ┆          ┆ the         │\n",
      "│             ┆      ┆      ┆             ┆   ┆             ┆             ┆          ┆ Caribbea…   │\n",
      "│ Greece      ┆ GRC  ┆ 2006 ┆ 0.337       ┆ … ┆ 11016060    ┆ null        ┆ Europe   ┆ Southern    │\n",
      "│             ┆      ┆      ┆             ┆   ┆             ┆             ┆          ┆ Europe      │\n",
      "│ Netherlands ┆ NLD  ┆ 2011 ┆ 0.294       ┆ … ┆ 16851014    ┆ null        ┆ Europe   ┆ Western     │\n",
      "│             ┆      ┆      ┆             ┆   ┆             ┆             ┆          ┆ Europe      │\n",
      "│ …           ┆ …    ┆ …    ┆ …           ┆ … ┆ …           ┆ …           ┆ …        ┆ …           │\n",
      "│ Ireland     ┆ IRL  ┆ 2004 ┆ 0.323       ┆ … ┆ 4066012     ┆ null        ┆ Europe   ┆ Northern    │\n",
      "│             ┆      ┆      ┆             ┆   ┆             ┆             ┆          ┆ Europe      │\n",
      "│ Spain       ┆ ESP  ┆ 2007 ┆ 0.313       ┆ … ┆ 45516452    ┆ null        ┆ Europe   ┆ Southern    │\n",
      "│             ┆      ┆      ┆             ┆   ┆             ┆             ┆          ┆ Europe      │\n",
      "│ India       ┆ IND  ┆ 2004 ┆ 0.482       ┆ … ┆ 1135991467  ┆ null        ┆ Asia     ┆ Southern    │\n",
      "│             ┆      ┆      ┆             ┆   ┆             ┆             ┆          ┆ Asia        │\n",
      "│ South Korea ┆ KOR  ┆ 2011 ┆ 0.388       ┆ … ┆ 49127592    ┆ null        ┆ Asia     ┆ Eastern     │\n",
      "│             ┆      ┆      ┆             ┆   ┆             ┆             ┆          ┆ Asia        │\n",
      "│ Costa Rica  ┆ CRI  ┆ 2010 ┆ 0.472       ┆ … ┆ 4555924     ┆ null        ┆ Americas ┆ Latin       │\n",
      "│             ┆      ┆      ┆             ┆   ┆             ┆             ┆          ┆ America and │\n",
      "│             ┆      ┆      ┆             ┆   ┆             ┆             ┆          ┆ the         │\n",
      "│             ┆      ┆      ┆             ┆   ┆             ┆             ┆          ┆ Caribbea…   │\n",
      "└─────────────┴──────┴──────┴─────────────┴───┴─────────────┴─────────────┴──────────┴─────────────┘\n"
     ]
    }
   ],
   "source": [
    "owid_regions = data.unique(\"code\").collect()\n",
    "print(owid_regions)"
   ]
  },
  {
   "cell_type": "markdown",
   "metadata": {},
   "source": [
    "**Which countries have the highest Gini coefficient before taxes?**\n",
    "\n",
    "**Which countries have the highest Gini coefficient after taxes?**\n",
    "\n",
    "- compute the country rank for each year for the pre0 and after-tax Gini coefficient respectively"
   ]
  },
  {
   "cell_type": "code",
   "execution_count": 13,
   "metadata": {},
   "outputs": [
    {
     "name": "stdout",
     "output_type": "stream",
     "text": [
      "shape: (596, 11)\n",
      "┌─────────────┬──────┬──────┬─────────────┬───┬──────────┬─────────────┬─────────────┬─────────────┐\n",
      "│ entity      ┆ code ┆ year ┆ gini_after_ ┆ … ┆ region   ┆ sub-region  ┆ rank_gini_p ┆ rank_gini_a │\n",
      "│ ---         ┆ ---  ┆ ---  ┆ tax         ┆   ┆ ---      ┆ ---         ┆ re_tax      ┆ fter_tax    │\n",
      "│ str         ┆ str  ┆ i32  ┆ ---         ┆   ┆ str      ┆ str         ┆ ---         ┆ ---         │\n",
      "│             ┆      ┆      ┆ f64         ┆   ┆          ┆             ┆ u32         ┆ u32         │\n",
      "╞═════════════╪══════╪══════╪═════════════╪═══╪══════════╪═════════════╪═════════════╪═════════════╡\n",
      "│ Australia   ┆ AUS  ┆ 2012 ┆ 0.326       ┆ … ┆ Oceania  ┆ Australia   ┆ 13          ┆ 17          │\n",
      "│             ┆      ┆      ┆             ┆   ┆          ┆ and New     ┆             ┆             │\n",
      "│             ┆      ┆      ┆             ┆   ┆          ┆ Zealand     ┆             ┆             │\n",
      "│ Australia   ┆ AUS  ┆ 2014 ┆ 0.337       ┆ … ┆ Oceania  ┆ Australia   ┆ 16          ┆ 19          │\n",
      "│             ┆      ┆      ┆             ┆   ┆          ┆ and New     ┆             ┆             │\n",
      "│             ┆      ┆      ┆             ┆   ┆          ┆ Zealand     ┆             ┆             │\n",
      "│ Australia   ┆ AUS  ┆ 2016 ┆ 0.33        ┆ … ┆ Oceania  ┆ Australia   ┆ 16          ┆ 21          │\n",
      "│             ┆      ┆      ┆             ┆   ┆          ┆ and New     ┆             ┆             │\n",
      "│             ┆      ┆      ┆             ┆   ┆          ┆ Zealand     ┆             ┆             │\n",
      "│ Australia   ┆ AUS  ┆ 2018 ┆ 0.325       ┆ … ┆ Oceania  ┆ Australia   ┆ 16          ┆ 22          │\n",
      "│             ┆      ┆      ┆             ┆   ┆          ┆ and New     ┆             ┆             │\n",
      "│             ┆      ┆      ┆             ┆   ┆          ┆ Zealand     ┆             ┆             │\n",
      "│ Australia   ┆ AUS  ┆ 2020 ┆ 0.319       ┆ … ┆ Oceania  ┆ Australia   ┆ 10          ┆ 20          │\n",
      "│             ┆      ┆      ┆             ┆   ┆          ┆ and New     ┆             ┆             │\n",
      "│             ┆      ┆      ┆             ┆   ┆          ┆ Zealand     ┆             ┆             │\n",
      "│ …           ┆ …    ┆ …    ┆ …           ┆ … ┆ …        ┆ …           ┆ …           ┆ …           │\n",
      "│ United      ┆ USA  ┆ 2019 ┆ 0.395       ┆ … ┆ Americas ┆ Northern    ┆ 26          ┆ 31          │\n",
      "│ States      ┆      ┆      ┆             ┆   ┆          ┆ America     ┆             ┆             │\n",
      "│ United      ┆ USA  ┆ 2020 ┆ 0.377       ┆ … ┆ Americas ┆ Northern    ┆ 33          ┆ 32          │\n",
      "│ States      ┆      ┆      ┆             ┆   ┆          ┆ America     ┆             ┆             │\n",
      "│ United      ┆ USA  ┆ 2021 ┆ 0.375       ┆ … ┆ Americas ┆ Northern    ┆ 29          ┆ 31          │\n",
      "│ States      ┆      ┆      ┆             ┆   ┆          ┆ America     ┆             ┆             │\n",
      "│ United      ┆ USA  ┆ 2022 ┆ 0.396       ┆ … ┆ Americas ┆ Northern    ┆ 28          ┆ 30          │\n",
      "│ States      ┆      ┆      ┆             ┆   ┆          ┆ America     ┆             ┆             │\n",
      "│ United      ┆ USA  ┆ 2023 ┆ 0.394       ┆ … ┆ Americas ┆ Northern    ┆ 1           ┆ 1           │\n",
      "│ States      ┆      ┆      ┆             ┆   ┆          ┆ America     ┆             ┆             │\n",
      "└─────────────┴──────┴──────┴─────────────┴───┴──────────┴─────────────┴─────────────┴─────────────┘\n"
     ]
    }
   ],
   "source": [
    "gini_by_country_by_year: pl.LazyFrame = data.with_columns(pl.col(\"gini_pre_tax\").rank(\"max\").over(partition_by=\"year\").alias(\"rank_gini_pre_tax\"))\\\n",
    "    .with_columns(pl.col(\"gini_after_tax\").rank(\"max\").over(partition_by=\"year\").alias(\"rank_gini_after_tax\"))\\\n",
    "        .collect()\n",
    "\n",
    "print(gini_by_country_by_year)"
   ]
  },
  {
   "cell_type": "markdown",
   "metadata": {},
   "source": [
    "**Which countries have the highest shifts in Gini coefficient?**\n",
    "\n",
    "**Which countries have the lowest shifts in Gini coefficient?**"
   ]
  },
  {
   "cell_type": "code",
   "execution_count": 14,
   "metadata": {},
   "outputs": [
    {
     "name": "stdout",
     "output_type": "stream",
     "text": [
      "shape: (45, 9)\n",
      "┌───────────┬───────────┬───────────┬───────────┬───┬───────────┬───────────┬───────────┬──────────┐\n",
      "│ entity    ┆ min_gini_ ┆ max_gini_ ┆ min_gini_ ┆ … ┆ pre_tax_s ┆ after_tax ┆ pre_tax_s ┆ after_ta │\n",
      "│ ---       ┆ pre_tax   ┆ pre_tax   ┆ after_tax ┆   ┆ hift      ┆ _shift    ┆ hift_rank ┆ x_shift_ │\n",
      "│ str       ┆ ---       ┆ ---       ┆ ---       ┆   ┆ ---       ┆ ---       ┆ ---       ┆ rank     │\n",
      "│           ┆ f64       ┆ f64       ┆ f64       ┆   ┆ f64       ┆ f64       ┆ u32       ┆ ---      │\n",
      "│           ┆           ┆           ┆           ┆   ┆           ┆           ┆           ┆ u32      │\n",
      "╞═══════════╪═══════════╪═══════════╪═══════════╪═══╪═══════════╪═══════════╪═══════════╪══════════╡\n",
      "│ United    ┆ 0.505     ┆ 0.521     ┆ 0.375     ┆ … ┆ 0.016     ┆ 0.021     ┆ 39        ┆ 33       │\n",
      "│ States    ┆           ┆           ┆           ┆   ┆           ┆           ┆           ┆          │\n",
      "│ Sweden    ┆ 0.424     ┆ 0.44      ┆ 0.267     ┆ … ┆ 0.016     ┆ 0.023     ┆ 39        ┆ 31       │\n",
      "│ Finland   ┆ 0.393     ┆ 0.518     ┆ 0.209     ┆ … ┆ 0.125     ┆ 0.065     ┆ 1         ┆ 6        │\n",
      "│ Costa     ┆ 0.505     ┆ 0.576     ┆ 0.47      ┆ … ┆ 0.071     ┆ 0.027     ┆ 10        ┆ 28       │\n",
      "│ Rica      ┆           ┆           ┆           ┆   ┆           ┆           ┆           ┆          │\n",
      "│ Chile     ┆ 0.486     ┆ 0.539     ┆ 0.448     ┆ … ┆ 0.053     ┆ 0.048     ┆ 20        ┆ 14       │\n",
      "│ …         ┆ …         ┆ …         ┆ …         ┆ … ┆ …         ┆ …         ┆ …         ┆ …        │\n",
      "│ Latvia    ┆ 0.458     ┆ 0.516     ┆ 0.34      ┆ … ┆ 0.058     ┆ 0.035     ┆ 17        ┆ 22       │\n",
      "│ United    ┆ 0.506     ┆ 0.536     ┆ 0.351     ┆ … ┆ 0.03      ┆ 0.023     ┆ 31        ┆ 30       │\n",
      "│ Kingdom   ┆           ┆           ┆           ┆   ┆           ┆           ┆           ┆          │\n",
      "│ Canada    ┆ 0.364     ┆ 0.444     ┆ 0.28      ┆ … ┆ 0.08      ┆ 0.041     ┆ 7         ┆ 18       │\n",
      "│ Israel    ┆ 0.437     ┆ 0.494     ┆ 0.34      ┆ … ┆ 0.057     ┆ 0.031     ┆ 19        ┆ 24       │\n",
      "│ Slovakia  ┆ 0.378     ┆ 0.456     ┆ 0.217     ┆ … ┆ 0.078     ┆ 0.072     ┆ 8         ┆ 2        │\n",
      "└───────────┴───────────┴───────────┴───────────┴───┴───────────┴───────────┴───────────┴──────────┘\n"
     ]
    }
   ],
   "source": [
    "gini_shifts = data.group_by(pl.col(\"entity\"))\\\n",
    "    .agg(pl.col(\"gini_pre_tax\").min().alias(\"min_gini_pre_tax\"),\\\n",
    "         pl.col(\"gini_pre_tax\").max().alias(\"max_gini_pre_tax\"),\\\n",
    "          pl.col(\"gini_after_tax\").min().alias(\"min_gini_after_tax\"),\\\n",
    "            pl.col(\"gini_after_tax\").max().alias(\"max_gini_after_tax\"))\\\n",
    "    .with_columns((pl.col(\"max_gini_pre_tax\") - pl.col(\"min_gini_pre_tax\")).alias(\"pre_tax_shift\"), (pl.col(\"max_gini_after_tax\") - pl.col(\"min_gini_after_tax\")).alias(\"after_tax_shift\"))\\\n",
    "    .with_columns(pl.col(\"pre_tax_shift\").rank(method=\"max\", descending=True).alias(\"pre_tax_shift_rank\"))\\\n",
    "    .with_columns(pl.col(\"after_tax_shift\").rank(method=\"max\", descending=True).alias(\"after_tax_shift_rank\"))\\\n",
    "    .collect()\n",
    "\n",
    "print(gini_shifts)"
   ]
  },
  {
   "cell_type": "code",
   "execution_count": null,
   "metadata": {},
   "outputs": [],
   "source": []
  }
 ],
 "metadata": {
  "kernelspec": {
   "display_name": "Python 3",
   "language": "python",
   "name": "python3"
  },
  "language_info": {
   "codemirror_mode": {
    "name": "ipython",
    "version": 3
   },
   "file_extension": ".py",
   "mimetype": "text/x-python",
   "name": "python",
   "nbconvert_exporter": "python",
   "pygments_lexer": "ipython3",
   "version": "3.11.11"
  }
 },
 "nbformat": 4,
 "nbformat_minor": 2
}
